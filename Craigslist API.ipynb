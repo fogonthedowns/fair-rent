{
 "cells": [
  {
   "cell_type": "code",
   "execution_count": 52,
   "metadata": {
    "collapsed": false
   },
   "outputs": [],
   "source": [
    "from craigslist import CraigslistHousing\n",
    "from functools import reduce"
   ]
  },
  {
   "cell_type": "code",
   "execution_count": 62,
   "metadata": {
    "collapsed": false
   },
   "outputs": [],
   "source": [
    "cl_h = CraigslistHousing(site=\"sfbay\", area='eby', category='apa',\n",
    "                         filters={'min_ft2': 1000,'max_ft2':1250, 'query':'berkeley', 'zip_code':94703})\n"
   ]
  },
  {
   "cell_type": "code",
   "execution_count": 63,
   "metadata": {
    "collapsed": true
   },
   "outputs": [],
   "source": [
    "homes = []"
   ]
  },
  {
   "cell_type": "code",
   "execution_count": 64,
   "metadata": {
    "collapsed": false
   },
   "outputs": [],
   "source": [
    "for result in cl_h.get_results(sort_by='newest', geotagged=True):\n",
    "    homes.append(result)"
   ]
  },
  {
   "cell_type": "code",
   "execution_count": 65,
   "metadata": {
    "collapsed": false
   },
   "outputs": [
    {
     "data": {
      "text/plain": [
       "31"
      ]
     },
     "execution_count": 65,
     "metadata": {},
     "output_type": "execute_result"
    }
   ],
   "source": [
    "len(homes)"
   ]
  },
  {
   "cell_type": "code",
   "execution_count": 39,
   "metadata": {
    "collapsed": false
   },
   "outputs": [
    {
     "data": {
      "text/plain": [
       "[{'datetime': '2016-06-02 14:48',\n",
       "  'geotag': (37.860526, -122.26738),\n",
       "  'has_image': True,\n",
       "  'has_map': True,\n",
       "  'id': '5616558953',\n",
       "  'name': 'Top Floor on Sun Filled Condo',\n",
       "  'price': '$4060',\n",
       "  'url': 'http://sfbay.craigslist.org/eby/apa/5616558953.html',\n",
       "  'where': 'berkeley'},\n",
       " {'datetime': '2016-06-02 11:49',\n",
       "  'geotag': (37.871805, -122.273304),\n",
       "  'has_image': True,\n",
       "  'has_map': True,\n",
       "  'id': '5572057186',\n",
       "  'name': '2 Bedroom Apartment Available',\n",
       "  'price': '$4000',\n",
       "  'url': 'http://sfbay.craigslist.org/eby/apa/5572057186.html',\n",
       "  'where': 'berkeley'},\n",
       " {'datetime': '2016-06-02 10:46',\n",
       "  'geotag': (37.856017, -122.290577),\n",
       "  'has_image': True,\n",
       "  'has_map': True,\n",
       "  'id': '5616117631',\n",
       "  'name': 'Incredible Live Work Loft By Berkeley Bowl CALL NOW!',\n",
       "  'price': '$4295',\n",
       "  'url': 'http://sfbay.craigslist.org/eby/apa/5616117631.html',\n",
       "  'where': 'berkeley'},\n",
       " {'datetime': '2016-06-01 22:52',\n",
       "  'geotag': (37.864026, -122.28168),\n",
       "  'has_image': True,\n",
       "  'has_map': True,\n",
       "  'id': '5603797547',\n",
       "  'name': 'Awesome Mediterranean Style Bungalow close to UC Berkeley',\n",
       "  'price': '$4100',\n",
       "  'url': 'http://sfbay.craigslist.org/eby/apa/5603797547.html',\n",
       "  'where': 'berkeley'},\n",
       " {'datetime': '2016-05-31 20:49',\n",
       "  'geotag': (37.854403, -122.276158),\n",
       "  'has_image': True,\n",
       "  'has_map': True,\n",
       "  'id': '5600316436',\n",
       "  'name': 'UPCOMING!!!!!Beautiful Craftsman Remodeled House',\n",
       "  'price': '$4400',\n",
       "  'url': 'http://sfbay.craigslist.org/eby/apa/5600316436.html',\n",
       "  'where': 'berkeley'},\n",
       " {'datetime': '2016-05-30 22:28',\n",
       "  'geotag': (37.855949, -122.290127),\n",
       "  'has_image': True,\n",
       "  'has_map': True,\n",
       "  'id': '5611993953',\n",
       "  'name': 'Last chance!! Beautiful 2 story Loft with 20ft ceilings',\n",
       "  'price': '$4195',\n",
       "  'url': 'http://sfbay.craigslist.org/eby/apa/5611993953.html',\n",
       "  'where': 'berkeley'},\n",
       " {'datetime': '2016-05-30 09:21',\n",
       "  'geotag': (37.874846, -122.269088),\n",
       "  'has_image': True,\n",
       "  'has_map': True,\n",
       "  'id': '5610993077',\n",
       "  'name': 'Welcome Berkeley Students!',\n",
       "  'price': '$4215',\n",
       "  'url': 'http://sfbay.craigslist.org/eby/apa/5610993077.html',\n",
       "  'where': 'berkeley'},\n",
       " {'datetime': '2016-05-30 09:04',\n",
       "  'geotag': (37.874846, -122.269088),\n",
       "  'has_image': True,\n",
       "  'has_map': True,\n",
       "  'id': '5610963274',\n",
       "  'name': 'Move In Now! Pet friendly, Bike Parking, Newly Constructed Buildings',\n",
       "  'price': '$4215',\n",
       "  'url': 'http://sfbay.craigslist.org/eby/apa/5610963274.html',\n",
       "  'where': 'berkeley'},\n",
       " {'datetime': '2016-05-29 17:21',\n",
       "  'geotag': (37.872267, -122.267891),\n",
       "  'has_image': True,\n",
       "  'has_map': True,\n",
       "  'id': '5610271218',\n",
       "  'name': 'Live Close to Campus in Bachenheimer!',\n",
       "  'price': '$4106',\n",
       "  'url': 'http://sfbay.craigslist.org/eby/apa/5610271218.html',\n",
       "  'where': 'berkeley'},\n",
       " {'datetime': '2016-05-28 17:45',\n",
       "  'geotag': (37.87093, -122.271023),\n",
       "  'has_image': True,\n",
       "  'has_map': True,\n",
       "  'id': '5609032561',\n",
       "  'name': 'Beautifully Renovated 2-Bedroom in ARTech',\n",
       "  'price': '$4386',\n",
       "  'url': 'http://sfbay.craigslist.org/eby/apa/5609032561.html',\n",
       "  'where': 'berkeley'},\n",
       " {'datetime': '2016-05-31 12:03',\n",
       "  'geotag': (37.876039, -122.265215),\n",
       "  'has_image': True,\n",
       "  'has_map': True,\n",
       "  'id': '5612858081',\n",
       "  'name': 'Furnished Cottage 1/2 Block North of UCB',\n",
       "  'price': '$4000',\n",
       "  'url': 'http://sfbay.craigslist.org/eby/apa/5612858081.html',\n",
       "  'where': 'sfo > berkeley north / hills'},\n",
       " {'datetime': '2016-05-28 17:43',\n",
       "  'geotag': None,\n",
       "  'has_image': True,\n",
       "  'has_map': True,\n",
       "  'id': '5609031147',\n",
       "  'name': 'You will LOVE this apartment!',\n",
       "  'price': '$4116',\n",
       "  'url': 'http://sfbay.craigslist.org/eby/apa/5609031147.html',\n",
       "  'where': 'sfo > berkeley'},\n",
       " {'datetime': '2016-05-28 17:41',\n",
       "  'geotag': None,\n",
       "  'has_image': True,\n",
       "  'has_map': True,\n",
       "  'id': '5609029140',\n",
       "  'name': 'Lovely Location!',\n",
       "  'price': '$4386',\n",
       "  'url': 'http://sfbay.craigslist.org/eby/apa/5609029140.html',\n",
       "  'where': 'sfo > berkeley'}]"
      ]
     },
     "execution_count": 39,
     "metadata": {},
     "output_type": "execute_result"
    }
   ],
   "source": [
    "homes"
   ]
  },
  {
   "cell_type": "code",
   "execution_count": 58,
   "metadata": {
    "collapsed": true
   },
   "outputs": [],
   "source": [
    "prices = []"
   ]
  },
  {
   "cell_type": "code",
   "execution_count": 59,
   "metadata": {
    "collapsed": false
   },
   "outputs": [],
   "source": [
    "for home in homes:\n",
    "    prices.append(int(home['price'][1:]))"
   ]
  },
  {
   "cell_type": "code",
   "execution_count": 60,
   "metadata": {
    "collapsed": false
   },
   "outputs": [
    {
     "data": {
      "text/plain": [
       "[2890,\n",
       " 3700,\n",
       " 2795,\n",
       " 2799,\n",
       " 4060,\n",
       " 3695,\n",
       " 3500,\n",
       " 3650,\n",
       " 3850,\n",
       " 3750,\n",
       " 4100,\n",
       " 3598,\n",
       " 2899,\n",
       " 2795,\n",
       " 1650,\n",
       " 3900,\n",
       " 4750,\n",
       " 4400,\n",
       " 3000,\n",
       " 2850,\n",
       " 6000,\n",
       " 4700,\n",
       " 4195,\n",
       " 4215,\n",
       " 3975,\n",
       " 3995,\n",
       " 4900,\n",
       " 2778,\n",
       " 3795,\n",
       " 3750,\n",
       " 3750,\n",
       " 3750,\n",
       " 3900,\n",
       " 3795,\n",
       " 3750,\n",
       " 3750,\n",
       " 3750,\n",
       " 3795,\n",
       " 3695,\n",
       " 4000]"
      ]
     },
     "execution_count": 60,
     "metadata": {},
     "output_type": "execute_result"
    }
   ],
   "source": [
    "prices\n"
   ]
  },
  {
   "cell_type": "code",
   "execution_count": 66,
   "metadata": {
    "collapsed": false
   },
   "outputs": [
    {
     "data": {
      "text/plain": [
       "3721.725"
      ]
     },
     "execution_count": 66,
     "metadata": {},
     "output_type": "execute_result"
    }
   ],
   "source": [
    "reduce(lambda x, y: x + y, prices) / len(prices)"
   ]
  },
  {
   "cell_type": "code",
   "execution_count": null,
   "metadata": {
    "collapsed": true
   },
   "outputs": [],
   "source": []
  }
 ],
 "metadata": {
  "kernelspec": {
   "display_name": "Python 3",
   "language": "python",
   "name": "python3"
  },
  "language_info": {
   "codemirror_mode": {
    "name": "ipython",
    "version": 3
   },
   "file_extension": ".py",
   "mimetype": "text/x-python",
   "name": "python",
   "nbconvert_exporter": "python",
   "pygments_lexer": "ipython3",
   "version": "3.4.3"
  }
 },
 "nbformat": 4,
 "nbformat_minor": 0
}
